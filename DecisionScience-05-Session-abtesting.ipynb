{
 "cells": [
  {
   "cell_type": "markdown",
   "metadata": {},
   "source": [
    "### Mann-Whitney's test\n",
    "Let's check how to use an another statistical test. We have here a dataset with the real estate prices in California.   \n",
    "Let's use Mann-Whitney's test to test is the probaility that a random real estate object from SACRAMENTO is more expensive than a random real estate object from ELK GROVE with the probability = 0.5."
   ]
  },
  {
   "cell_type": "markdown",
   "metadata": {},
   "source": [
    "#### Load the dataset with prices. Check it out:\n",
    " - measure the sample size for SACRAMENTO and ELK GROVE\n",
    " - measure the mean and median of prices in these towns\n",
    " - plot histograms of prices in SACRAMENTO and ELK GROVE separately"
   ]
  },
  {
   "cell_type": "code",
   "execution_count": null,
   "metadata": {},
   "outputs": [],
   "source": [
    "# load dataset and check out columns\n",
    "import pandas as pd\n",
    "\n",
    "prices_df = pd.read_csv('data/Sacramentorealestatetransactions.csv')\n",
    "prices_df.head()"
   ]
  },
  {
   "cell_type": "markdown",
   "metadata": {},
   "source": [
    "https://towardsdatascience.com/a-growth-marketer-guide-to-designing-a-b-tests-using-python-5c0729d8eacc"
   ]
  },
  {
   "cell_type": "code",
   "execution_count": null,
   "metadata": {},
   "outputs": [],
   "source": [
    "from statsmodels.stats.power import TTestIndPower \n",
    "# parameters for power analysis (change as needed)\n",
    "effect = 0.05\n",
    "alpha = 0.05\n",
    "power = 0.8\n",
    "# perform power analysis #\n",
    "# change to TTestPower() in case of a paired sample t-test\n",
    "analysis = TTestIndPower()  \n",
    "result = analysis.solve_power(effect, power=power, nobs1=None, \n",
    "                              ratio=1.0, alpha=alpha)\n",
    "print('Sample Size: %.2f' % result)"
   ]
  },
  {
   "cell_type": "code",
   "execution_count": null,
   "metadata": {},
   "outputs": [],
   "source": [
    "# measure the sample size for SACRAMENTO and ELK GROVE"
   ]
  },
  {
   "cell_type": "code",
   "execution_count": null,
   "metadata": {},
   "outputs": [],
   "source": [
    "# measure the mean and median of prices in these towns\n",
    "prices_df[prices_df['city']=='SACRAMENTO']['price'].mean()"
   ]
  },
  {
   "cell_type": "code",
   "execution_count": null,
   "metadata": {},
   "outputs": [],
   "source": [
    "prices_df[prices_df['city']=='ELK GROVE']['price'].mean()"
   ]
  },
  {
   "cell_type": "code",
   "execution_count": null,
   "metadata": {},
   "outputs": [],
   "source": [
    "# plot histograms of prices in SACRAMENTO and ELK GROVE separately\n",
    "prices_df[prices_df['city']=='SACRAMENTO'][['price']].plot.hist()"
   ]
  },
  {
   "cell_type": "code",
   "execution_count": null,
   "metadata": {},
   "outputs": [],
   "source": [
    "prices_df[prices_df['city']=='ELK GROVE'][['price']].plot.hist()"
   ]
  },
  {
   "cell_type": "markdown",
   "metadata": {},
   "source": [
    "### Apply Mann-Whitney test to prices in SACRAMENTO and ELK GROVE. What does result mean? Do we reject Null hypothesis or not?"
   ]
  },
  {
   "cell_type": "code",
   "execution_count": null,
   "metadata": {},
   "outputs": [],
   "source": [
    "sacramento = prices_df[prices_df['city']=='SACRAMENTO'][['price']]\n",
    "elk_grove = prices_df[prices_df['city']=='ELK GROVE'][['price']]\n",
    "\n",
    "from scipy.stats import mannwhitneyu"
   ]
  },
  {
   "cell_type": "code",
   "execution_count": null,
   "metadata": {},
   "outputs": [],
   "source": [
    "stat, p = mannwhitneyu(sacramento, elk_grove)\n",
    "print('Statistics=%.3f, p=%.3f' % (stat, p))"
   ]
  },
  {
   "cell_type": "code",
   "execution_count": null,
   "metadata": {},
   "outputs": [],
   "source": [
    "p"
   ]
  },
  {
   "cell_type": "code",
   "execution_count": null,
   "metadata": {},
   "outputs": [],
   "source": [
    "# interpret\n",
    "alpha = 0.05\n",
    "if p > alpha:\n",
    "    print('Same distribution accept H0 (fail to reject H0)')\n",
    "else:\n",
    "    print('Different distribution (reject H0)')"
   ]
  },
  {
   "cell_type": "code",
   "execution_count": null,
   "metadata": {},
   "outputs": [],
   "source": [
    "# Now do the same but for SACRAMENTO and RIO LINDA"
   ]
  },
  {
   "cell_type": "code",
   "execution_count": null,
   "metadata": {},
   "outputs": [],
   "source": [
    "sacramento = prices_df[prices_df['city']=='SACRAMENTO'][['price']]\n",
    "riolinda = prices_df[prices_df['city']=='RIO LINDA'][['price']]\n",
    "\n",
    "stat, p = mannwhitneyu(sacramento, riolinda)\n",
    "print('Statistics=%.3f, p=%.3f' % (stat, p))\n",
    "\n",
    "# interpret\n",
    "alpha = 0.05\n",
    "if p > alpha:\n",
    "    print('Same distribution accept H0 (fail to reject H0)')\n",
    "else:\n",
    "    print('Different distribution (reject H0)')"
   ]
  },
  {
   "cell_type": "markdown",
   "metadata": {},
   "source": [
    "### Learn more: https://machinelearningmastery.com/nonparametric-statistical-significance-tests-in-python/"
   ]
  },
  {
   "cell_type": "markdown",
   "metadata": {},
   "source": [
    "### Welch’s t-test is a nonparametric univariate test that tests for a significant difference between the mean of two unrelated groups. It is an alternative to the independent t-test when there is a violation in the assumption of equality of variances.\n",
    "\n",
    "The hypothesis being tested is:\n",
    "\n",
    "- Null hypothesis (H0): u1 = u2, which translates to the mean of sample 1 is equal to the mean of sample 2\n",
    "- Alternative hypothesis (HA): u1 ≠ u2, which translates to the mean of sample 1 is not equal to the mean of sample 2\n",
    "\n",
    "If the p-value is less than what is tested at, most commonly 0.05, one can reject the null hypothesis. "
   ]
  },
  {
   "cell_type": "markdown",
   "metadata": {},
   "source": [
    "More: https://pythonfordatascienceorg.wordpress.com/welch-t-test-python-pandas/"
   ]
  },
  {
   "cell_type": "markdown",
   "metadata": {},
   "source": [
    "Welch’s t-test Assumptions\n",
    "\n",
    "Like every test, this inferential statistic test has assumptions. The assumptions that the data must meet in order for the test results to be valid are:\n",
    "\n",
    "- The independent variable (IV) is categorical with at least two levels (groups)\n",
    "- The dependent variable (DV) is continuous which is measured on an interval or ratio scale\n",
    "- The distribution of the two groups should follow the normal distribution\n",
    "\n",
    "If any of these assumptions are violated then another test should be used."
   ]
  },
  {
   "cell_type": "code",
   "execution_count": null,
   "metadata": {},
   "outputs": [],
   "source": [
    "riolinda = prices_df[prices_df['city']=='RIO LINDA']['price']\n",
    "sacramento = prices_df[prices_df['city']=='SACRAMENTO']['price']"
   ]
  },
  {
   "cell_type": "code",
   "execution_count": null,
   "metadata": {},
   "outputs": [],
   "source": [
    "from scipy import stats"
   ]
  },
  {
   "cell_type": "code",
   "execution_count": null,
   "metadata": {},
   "outputs": [],
   "source": [
    "stats.shapiro(riolinda)"
   ]
  },
  {
   "cell_type": "code",
   "execution_count": null,
   "metadata": {},
   "outputs": [],
   "source": [
    "stats.shapiro(sacramento)"
   ]
  },
  {
   "cell_type": "code",
   "execution_count": null,
   "metadata": {},
   "outputs": [],
   "source": [
    "stats.ttest_ind(riolinda, sacramento, equal_var = False)"
   ]
  },
  {
   "cell_type": "markdown",
   "metadata": {},
   "source": [
    "The p-value is significant, therefore one can reject the null hypothesis in support of the alternative. "
   ]
  },
  {
   "cell_type": "markdown",
   "metadata": {},
   "source": [
    "Another piece of information you will need to report is the degrees of freedom (DoF). However, there is not a built-in method for this currently. Below are 2 functions that will give you what you need. The first, only calculates the DoF as a two tail test and returns it. The second, conducts the Welch’s test, calculates the DoF as a two tail test, and returns all the needed information."
   ]
  },
  {
   "cell_type": "code",
   "execution_count": null,
   "metadata": {},
   "outputs": [],
   "source": [
    "def welch_dof(x,y):\n",
    "    dof = (x.var()/x.size + y.var()/y.size)**2 / ((x.var()/x.size)**2 / \\\n",
    "                                                  (x.size-1) + (y.var()/y.size)**2 / (y.size-1))\n",
    "    print(f\"Welch-Satterthwaite Degrees of Freedom= {dof:.4f}\")"
   ]
  },
  {
   "cell_type": "code",
   "execution_count": null,
   "metadata": {},
   "outputs": [],
   "source": [
    "welch_dof(riolinda, sacramento)"
   ]
  },
  {
   "cell_type": "code",
   "execution_count": null,
   "metadata": {},
   "outputs": [],
   "source": [
    "print(prices_df[prices_df['city']=='RIO LINDA']['price'].mean())\n",
    "print(prices_df[prices_df['city']=='RIO LINDA']['price'].std())"
   ]
  },
  {
   "cell_type": "code",
   "execution_count": null,
   "metadata": {},
   "outputs": [],
   "source": [
    "print(prices_df[prices_df['city']=='SACRAMENTO']['price'].std())\n",
    "print(prices_df[prices_df['city']=='SACRAMENTO']['price'].mean())"
   ]
  },
  {
   "cell_type": "code",
   "execution_count": null,
   "metadata": {},
   "outputs": [],
   "source": [
    "def welch_ttest(x, y): \n",
    "    ## Welch-Satterthwaite Degrees of Freedom ##\n",
    "    dof = (x.var()/x.size + y.var()/y.size)**2 / ((x.var()/x.size)**2 / \\\n",
    "                                                  (x.size-1) + (y.var()/y.size)**2 / (y.size-1))\n",
    "   \n",
    "    t, p = stats.ttest_ind(x, y, equal_var = False)\n",
    "    \n",
    "    print(\"\\n\",\n",
    "          f\"Welch's t-test= {t:.4f}\", \"\\n\",\n",
    "          f\"p-value = {p:.4f}\", \"\\n\",\n",
    "          f\"Welch-Satterthwaite Degrees of Freedom= {dof:.4f}\")\n",
    "\n",
    "welch_ttest(riolinda, sacramento)"
   ]
  },
  {
   "cell_type": "markdown",
   "metadata": {},
   "source": [
    "Welch’s t-test Interpretation\n",
    "\n",
    "The current study aimed to test if there was a significant difference in the price between the RIO LINDA and LINCOLN. RIO LINDA has higher price avg (M= 172,727, SD= 76,711) compared to SACRAMENTO (M= 100,870, SD= 197,735 units). The difference in price between the two areas are **not** significantly different (Welch's t(-1.1464)=13.2593, **p(0.2719)> 0.0001**).\n",
    "\n",
    "- p is not p<0.0001"
   ]
  },
  {
   "cell_type": "markdown",
   "metadata": {},
   "source": [
    "\n",
    "- Null hypothesis (H0): u1 = u2, which translates to the mean of sample 1 is equal to the mean of sample 2\n",
    "- Alternative hypothesis (HA): u1 ≠ u2, which translates to the mean of sample 1 is not equal to the mean of sample 2\n",
    "\n",
    "--> Hence we reject H0\n"
   ]
  },
  {
   "cell_type": "code",
   "execution_count": null,
   "metadata": {},
   "outputs": [],
   "source": []
  }
 ],
 "metadata": {
  "kernelspec": {
   "display_name": "Python 3 (ipykernel)",
   "language": "python",
   "name": "python3"
  },
  "language_info": {
   "codemirror_mode": {
    "name": "ipython",
    "version": 3
   },
   "file_extension": ".py",
   "mimetype": "text/x-python",
   "name": "python",
   "nbconvert_exporter": "python",
   "pygments_lexer": "ipython3",
   "version": "3.7.4"
  }
 },
 "nbformat": 4,
 "nbformat_minor": 4
}
